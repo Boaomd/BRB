{
  "nbformat": 4,
  "nbformat_minor": 0,
  "metadata": {
    "colab": {
      "name": "Code.ipynb",
      "provenance": []
    },
    "kernelspec": {
      "name": "python3",
      "display_name": "Python 3"
    },
    "language_info": {
      "name": "python"
    }
  },
  "cells": [
    {
      "cell_type": "code",
      "execution_count": 6,
      "metadata": {
        "colab": {
          "base_uri": "https://localhost:8080/"
        },
        "id": "n_8eRaPZ5mNF",
        "outputId": "a1d979c5-7c8e-4b5a-ca1c-84e22c3603cf"
      },
      "outputs": [
        {
          "output_type": "stream",
          "name": "stdout",
          "text": [
            "Join:us:at:LINE:MAN:Wongnai\n"
          ]
        }
      ],
      "source": [
        "import base64\n",
        "\n",
        "secret = \"aWFuZ25vVzpOQU06RU5JTDp0YTpzdTpuaW9K\"\n",
        "sd = secret.encode('ascii')\n",
        "_ = base64.b64decode(sd)\n",
        "message = _.decode('ascii')\n",
        "\n",
        "print(message[::-1])"
      ]
    }
  ]
}